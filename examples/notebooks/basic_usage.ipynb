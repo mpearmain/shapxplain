{
 "cells": [
  {
   "cell_type": "markdown",
   "metadata": {},
   "source": [
    "# SHAPXplain: Example Usage\n",
    "\n",
    "This notebook demonstrates how to use the SHAPXplain package to integrate SHAP explanations with LLMs."
   ]
  },
  {
   "cell_type": "code",
   "execution_count": 1,
   "metadata": {
    "ExecuteTime": {
     "end_time": "2025-01-17T12:44:51.642857Z",
     "start_time": "2025-01-17T12:44:51.626712Z"
    }
   },
   "outputs": [],
   "source": [
    "import numpy as np \n",
    "from sklearn.datasets import load_iris\n",
    "from sklearn.ensemble import RandomForestClassifier\n",
    "from shap import TreeExplainer\n",
    "from shapxplain import ShapLLMExplainer\n",
    "from pydantic_ai import Agent\n",
    "import nest_asyncio\n",
    "nest_asyncio.apply() # Fixes issues with pydantic-ai event loops in jupyter"
   ]
  },
  {
   "cell_type": "code",
   "execution_count": 2,
   "metadata": {},
   "outputs": [],
   "source": [
    "# Load data and train model\n",
    "data = load_iris()\n",
    "X, y = data.data, data.target\n",
    "model = RandomForestClassifier(random_state=42)\n",
    "model.fit(X, y)\n",
    "\n",
    "# Generate SHAP values\n",
    "explainer = TreeExplainer(model)\n",
    "shap_values = explainer.shap_values(X)"
   ]
  },
  {
   "cell_type": "code",
   "execution_count": 3,
   "metadata": {},
   "outputs": [],
   "source": [
    "# Create an LLM agent\n",
    "llm_agent = Agent(model=\"openai:gpt-4o\")\n",
    "\n",
    "# Instantiate the SHAPXplain explainer\n",
    "llm_explainer = ShapLLMExplainer(\n",
    "    model=model,\n",
    "    llm_agent=llm_agent,\n",
    "    feature_names=data.feature_names,\n",
    "    significance_threshold=0.1\n",
    ")"
   ]
  },
  {
   "cell_type": "code",
   "execution_count": 4,
   "metadata": {},
   "outputs": [],
   "source": [
    "# Generate an explanation for a specific data point (index 0)\n",
    "data_point = X[0]\n",
    "# Get predictions\n",
    "prediction_probs = model.predict_proba(data_point.reshape(1, -1))[0]\n",
    "predicted_class_idx = model.predict(data_point.reshape(1, -1))[0]\n",
    "prediction_class = data.target_names[predicted_class_idx]"
   ]
  },
  {
   "cell_type": "code",
   "execution_count": 5,
   "metadata": {},
   "outputs": [
    {
     "name": "stdout",
     "output_type": "stream",
     "text": [
      "Class SHAP values shape: 4\n",
      "Data point shape: 4\n"
     ]
    }
   ],
   "source": [
    "# For multi-class problems, shap_values is a 3D array (instances, features, classes)\n",
    "# Select SHAP values for the predicted class and the specific data point\n",
    "data_point_index = 0  # Index of the data point to explain\n",
    "predicted_class_idx = np.argmax(prediction_probs)  # Index of the predicted class\n",
    "\n",
    "# Extract SHAP values for the data point and class\n",
    "class_shap_values = shap_values[data_point_index][:, predicted_class_idx]\n",
    "\n",
    "# Verify shapes\n",
    "print(\"Class SHAP values shape:\", len(class_shap_values))  # Should match `data_point`\n",
    "print(\"Data point shape:\", len(data_point))  # Should match `class_shap_values`\n",
    "\n",
    "# Ensure the dimensions match\n",
    "assert len(class_shap_values) == len(data_point), \"SHAP values and data point dimensions do not match!\"\n",
    "\n"
   ]
  },
  {
   "cell_type": "code",
   "execution_count": 6,
   "metadata": {},
   "outputs": [
    {
     "ename": "ValidationError",
     "evalue": "1 validation error for SHAPExplanationResponse\n  Input should be a valid dictionary or instance of SHAPExplanationResponse [type=model_type, input_value='### Summary\\nThe predict...ately and consistently.', input_type=str]\n    For further information visit https://errors.pydantic.dev/2.10/v/model_type",
     "output_type": "error",
     "traceback": [
      "\u001b[0;31m---------------------------------------------------------------------------\u001b[0m",
      "\u001b[0;31mValidationError\u001b[0m                           Traceback (most recent call last)",
      "Cell \u001b[0;32mIn[6], line 1\u001b[0m\n\u001b[0;32m----> 1\u001b[0m explanation \u001b[38;5;241m=\u001b[39m \u001b[43mllm_explainer\u001b[49m\u001b[38;5;241;43m.\u001b[39;49m\u001b[43mexplain\u001b[49m\u001b[43m(\u001b[49m\n\u001b[1;32m      2\u001b[0m \u001b[43m    \u001b[49m\u001b[43mshap_values\u001b[49m\u001b[38;5;241;43m=\u001b[39;49m\u001b[43mclass_shap_values\u001b[49m\u001b[43m,\u001b[49m\u001b[43m  \u001b[49m\u001b[38;5;66;43;03m# SHAP values for the predicted class\u001b[39;49;00m\n\u001b[1;32m      3\u001b[0m \u001b[43m    \u001b[49m\u001b[43mdata_point\u001b[49m\u001b[38;5;241;43m=\u001b[39;49m\u001b[43mdata_point\u001b[49m\u001b[43m,\u001b[49m\n\u001b[1;32m      4\u001b[0m \u001b[43m    \u001b[49m\u001b[43mprediction\u001b[49m\u001b[38;5;241;43m=\u001b[39;49m\u001b[43mprediction_probs\u001b[49m\u001b[43m[\u001b[49m\u001b[43mpredicted_class_idx\u001b[49m\u001b[43m]\u001b[49m\u001b[43m,\u001b[49m\n\u001b[1;32m      5\u001b[0m \u001b[43m    \u001b[49m\u001b[43mprediction_class\u001b[49m\u001b[38;5;241;43m=\u001b[39;49m\u001b[43mprediction_class\u001b[49m\u001b[43m,\u001b[49m\n\u001b[1;32m      6\u001b[0m \u001b[43m    \u001b[49m\u001b[43madditional_context\u001b[49m\u001b[38;5;241;43m=\u001b[39;49m\u001b[43m{\u001b[49m\n\u001b[1;32m      7\u001b[0m \u001b[43m        \u001b[49m\u001b[38;5;124;43m\"\u001b[39;49m\u001b[38;5;124;43mdataset\u001b[39;49m\u001b[38;5;124;43m\"\u001b[39;49m\u001b[43m:\u001b[49m\u001b[43m \u001b[49m\u001b[38;5;124;43m\"\u001b[39;49m\u001b[38;5;124;43mIris\u001b[39;49m\u001b[38;5;124;43m\"\u001b[39;49m\u001b[43m,\u001b[49m\n\u001b[1;32m      8\u001b[0m \u001b[43m        \u001b[49m\u001b[38;5;124;43m\"\u001b[39;49m\u001b[38;5;124;43mfeature_descriptions\u001b[39;49m\u001b[38;5;124;43m\"\u001b[39;49m\u001b[43m:\u001b[49m\u001b[43m \u001b[49m\u001b[43m{\u001b[49m\n\u001b[1;32m      9\u001b[0m \u001b[43m            \u001b[49m\u001b[38;5;124;43m\"\u001b[39;49m\u001b[38;5;124;43msepal length\u001b[39;49m\u001b[38;5;124;43m\"\u001b[39;49m\u001b[43m:\u001b[49m\u001b[43m \u001b[49m\u001b[38;5;124;43m\"\u001b[39;49m\u001b[38;5;124;43mLength of the sepal in cm\u001b[39;49m\u001b[38;5;124;43m\"\u001b[39;49m\u001b[43m,\u001b[49m\n\u001b[1;32m     10\u001b[0m \u001b[43m            \u001b[49m\u001b[38;5;124;43m\"\u001b[39;49m\u001b[38;5;124;43msepal width\u001b[39;49m\u001b[38;5;124;43m\"\u001b[39;49m\u001b[43m:\u001b[49m\u001b[43m \u001b[49m\u001b[38;5;124;43m\"\u001b[39;49m\u001b[38;5;124;43mWidth of the sepal in cm\u001b[39;49m\u001b[38;5;124;43m\"\u001b[39;49m\u001b[43m,\u001b[49m\n\u001b[1;32m     11\u001b[0m \u001b[43m            \u001b[49m\u001b[38;5;124;43m\"\u001b[39;49m\u001b[38;5;124;43mpetal length\u001b[39;49m\u001b[38;5;124;43m\"\u001b[39;49m\u001b[43m:\u001b[49m\u001b[43m \u001b[49m\u001b[38;5;124;43m\"\u001b[39;49m\u001b[38;5;124;43mLength of the petal in cm\u001b[39;49m\u001b[38;5;124;43m\"\u001b[39;49m\u001b[43m,\u001b[49m\n\u001b[1;32m     12\u001b[0m \u001b[43m            \u001b[49m\u001b[38;5;124;43m\"\u001b[39;49m\u001b[38;5;124;43mpetal width\u001b[39;49m\u001b[38;5;124;43m\"\u001b[39;49m\u001b[43m:\u001b[49m\u001b[43m \u001b[49m\u001b[38;5;124;43m\"\u001b[39;49m\u001b[38;5;124;43mWidth of the petal in cm\u001b[39;49m\u001b[38;5;124;43m\"\u001b[39;49m\n\u001b[1;32m     13\u001b[0m \u001b[43m        \u001b[49m\u001b[43m}\u001b[49m\n\u001b[1;32m     14\u001b[0m \u001b[43m    \u001b[49m\u001b[43m}\u001b[49m\n\u001b[1;32m     15\u001b[0m \u001b[43m)\u001b[49m\n\u001b[1;32m     17\u001b[0m \u001b[38;5;28mprint\u001b[39m(\u001b[38;5;124m\"\u001b[39m\u001b[38;5;124mSummary:\u001b[39m\u001b[38;5;124m\"\u001b[39m, explanation\u001b[38;5;241m.\u001b[39msummary)\n\u001b[1;32m     18\u001b[0m \u001b[38;5;28mprint\u001b[39m(\u001b[38;5;124m\"\u001b[39m\u001b[38;5;130;01m\\n\u001b[39;00m\u001b[38;5;124mDetailed Explanation:\u001b[39m\u001b[38;5;124m\"\u001b[39m, explanation\u001b[38;5;241m.\u001b[39mdetailed_explanation)\n",
      "File \u001b[0;32m~/gitpackages/shapxplain/src/shapxplain/explainers.py:236\u001b[0m, in \u001b[0;36mShapLLMExplainer.explain\u001b[0;34m(self, shap_values, data_point, prediction, prediction_class, additional_context)\u001b[0m\n\u001b[1;32m    227\u001b[0m prompt \u001b[38;5;241m=\u001b[39m generate_explanation_prompt(\n\u001b[1;32m    228\u001b[0m     model_type\u001b[38;5;241m=\u001b[39mrequest\u001b[38;5;241m.\u001b[39mmodel_type,\n\u001b[1;32m    229\u001b[0m     prediction\u001b[38;5;241m=\u001b[39mrequest\u001b[38;5;241m.\u001b[39mprediction,\n\u001b[0;32m   (...)\u001b[0m\n\u001b[1;32m    232\u001b[0m     context\u001b[38;5;241m=\u001b[39mrequest\u001b[38;5;241m.\u001b[39mcontext,\n\u001b[1;32m    233\u001b[0m )\n\u001b[1;32m    235\u001b[0m response \u001b[38;5;241m=\u001b[39m \u001b[38;5;28mself\u001b[39m\u001b[38;5;241m.\u001b[39m_query_llm(prompt)\n\u001b[0;32m--> 236\u001b[0m \u001b[38;5;28;01mreturn\u001b[39;00m \u001b[43mSHAPExplanationResponse\u001b[49m\u001b[38;5;241;43m.\u001b[39;49m\u001b[43mmodel_validate\u001b[49m\u001b[43m(\u001b[49m\u001b[43mresponse\u001b[49m\u001b[43m)\u001b[49m\n",
      "File \u001b[0;32m~/Library/Caches/pypoetry/virtualenvs/shapxplain-rLtmcCzY-py3.12/lib/python3.12/site-packages/pydantic/main.py:627\u001b[0m, in \u001b[0;36mBaseModel.model_validate\u001b[0;34m(cls, obj, strict, from_attributes, context)\u001b[0m\n\u001b[1;32m    625\u001b[0m \u001b[38;5;66;03m# `__tracebackhide__` tells pytest and some other tools to omit this function from tracebacks\u001b[39;00m\n\u001b[1;32m    626\u001b[0m __tracebackhide__ \u001b[38;5;241m=\u001b[39m \u001b[38;5;28;01mTrue\u001b[39;00m\n\u001b[0;32m--> 627\u001b[0m \u001b[38;5;28;01mreturn\u001b[39;00m \u001b[38;5;28;43mcls\u001b[39;49m\u001b[38;5;241;43m.\u001b[39;49m\u001b[43m__pydantic_validator__\u001b[49m\u001b[38;5;241;43m.\u001b[39;49m\u001b[43mvalidate_python\u001b[49m\u001b[43m(\u001b[49m\n\u001b[1;32m    628\u001b[0m \u001b[43m    \u001b[49m\u001b[43mobj\u001b[49m\u001b[43m,\u001b[49m\u001b[43m \u001b[49m\u001b[43mstrict\u001b[49m\u001b[38;5;241;43m=\u001b[39;49m\u001b[43mstrict\u001b[49m\u001b[43m,\u001b[49m\u001b[43m \u001b[49m\u001b[43mfrom_attributes\u001b[49m\u001b[38;5;241;43m=\u001b[39;49m\u001b[43mfrom_attributes\u001b[49m\u001b[43m,\u001b[49m\u001b[43m \u001b[49m\u001b[43mcontext\u001b[49m\u001b[38;5;241;43m=\u001b[39;49m\u001b[43mcontext\u001b[49m\n\u001b[1;32m    629\u001b[0m \u001b[43m\u001b[49m\u001b[43m)\u001b[49m\n",
      "\u001b[0;31mValidationError\u001b[0m: 1 validation error for SHAPExplanationResponse\n  Input should be a valid dictionary or instance of SHAPExplanationResponse [type=model_type, input_value='### Summary\\nThe predict...ately and consistently.', input_type=str]\n    For further information visit https://errors.pydantic.dev/2.10/v/model_type"
     ]
    }
   ],
   "source": [
    "explanation = llm_explainer.explain(\n",
    "    shap_values=class_shap_values,  # SHAP values for the predicted class\n",
    "    data_point=data_point,\n",
    "    prediction=prediction_probs[predicted_class_idx],\n",
    "    prediction_class=prediction_class,\n",
    "    additional_context={\n",
    "        \"dataset\": \"Iris\",\n",
    "        \"feature_descriptions\": {\n",
    "            \"sepal length\": \"Length of the sepal in cm\",\n",
    "            \"sepal width\": \"Width of the sepal in cm\",\n",
    "            \"petal length\": \"Length of the petal in cm\",\n",
    "            \"petal width\": \"Width of the petal in cm\"\n",
    "        }\n",
    "    }\n",
    ")\n",
    "\n",
    "print(\"Summary:\", explanation.summary)\n",
    "print(\"\\nDetailed Explanation:\", explanation.detailed_explanation)\n",
    "print(\"\\nRecommendations:\", explanation.recommendations)\n",
    "print(\"\\nConfidence Level:\", explanation.confidence_level)"
   ]
  },
  {
   "cell_type": "code",
   "execution_count": null,
   "metadata": {},
   "outputs": [],
   "source": []
  }
 ],
 "metadata": {
  "kernelspec": {
   "display_name": "Python (shapxplain)",
   "language": "python",
   "name": "shapxplain"
  },
  "language_info": {
   "codemirror_mode": {
    "name": "ipython",
    "version": 3
   },
   "file_extension": ".py",
   "mimetype": "text/x-python",
   "name": "python",
   "nbconvert_exporter": "python",
   "pygments_lexer": "ipython3",
   "version": "3.12.6"
  }
 },
 "nbformat": 4,
 "nbformat_minor": 4
}
