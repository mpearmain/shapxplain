{
 "cells": [
  {
   "cell_type": "markdown",
   "metadata": {},
   "source": [
    "# SHAPXplain: Example Usage\n",
    "\n",
    "This notebook demonstrates how to use the SHAPXplain package to integrate SHAP explanations with LLMs."
   ]
  },
  {
   "cell_type": "code",
   "metadata": {
    "ExecuteTime": {
     "end_time": "2025-01-24T12:11:04.082983Z",
     "start_time": "2025-01-24T12:11:03.171079Z"
    }
   },
   "source": [
    "import numpy as np \n",
    "import os\n",
    "from sklearn.datasets import load_iris\n",
    "from sklearn.ensemble import RandomForestClassifier\n",
    "from shap import TreeExplainer\n",
    "from shapxplain import ShapLLMExplainer\n",
    "from pydantic_ai import Agent\n",
    "from pydantic_ai.models.openai import OpenAIModel\n",
    "from openai import OpenAI\n",
    "import nest_asyncio\n",
    "nest_asyncio.apply() # Fixes issues with pydantic-ai event loops in jupyter"
   ],
   "outputs": [],
   "execution_count": 1
  },
  {
   "cell_type": "code",
   "metadata": {
    "ExecuteTime": {
     "end_time": "2025-01-24T12:11:04.135981Z",
     "start_time": "2025-01-24T12:11:04.086237Z"
    }
   },
   "source": [
    "# Load data and train model\n",
    "data = load_iris()\n",
    "X, y = data.data, data.target\n",
    "rf_model = RandomForestClassifier(random_state=42)\n",
    "rf_model.fit(X, y)\n",
    "\n",
    "# Generate SHAP values\n",
    "explainer = TreeExplainer(rf_model)\n",
    "shap_values = explainer.shap_values(X)"
   ],
   "outputs": [],
   "execution_count": 2
  },
  {
   "cell_type": "code",
   "metadata": {
    "ExecuteTime": {
     "end_time": "2025-01-24T12:11:04.163426Z",
     "start_time": "2025-01-24T12:11:04.146632Z"
    }
   },
   "source": [
    "# Create an LLM agent - Pydantic-ai will pick up environment avr if set\n",
    "llm_agent = Agent(model=\"openai:gpt-4o\")\n",
    "\n",
    "# Create an LLM agent - https://ai.pydantic.dev/models/#deepseek\n",
    "#\n",
    "# # Access the DEEPSEEK_API_KEY environment variable\n",
    "# deepseek_api_key = os.getenv('DEEPSEEK_API_KEY')\n",
    "# deepseek_client = OpenAI(api_key=deepseek_api_key, base_url=\"https://api.deepseek.com\")\n",
    "# deepseek_model = OpenAIModel(model_name=\"deepseek-reasoner\")\n",
    "# llm_agent = Agent(model=deepseek_model)\n",
    "\n",
    "\n",
    "# Instantiate the SHAPXplain explainer\n",
    "llm_explainer = ShapLLMExplainer(\n",
    "    model=rf_model,\n",
    "    llm_agent=llm_agent,\n",
    "    feature_names=data.feature_names,\n",
    "    significance_threshold=0.1\n",
    ")"
   ],
   "outputs": [],
   "execution_count": 3
  },
  {
   "cell_type": "code",
   "metadata": {
    "ExecuteTime": {
     "end_time": "2025-01-24T12:11:04.178898Z",
     "start_time": "2025-01-24T12:11:04.171392Z"
    }
   },
   "source": [
    "# Generate an explanation for a specific data point (index 0)\n",
    "data_point = X[0]\n",
    "# Get predictions\n",
    "prediction_probs = rf_model.predict_proba(data_point.reshape(1, -1))[0]\n",
    "predicted_class_idx = rf_model.predict(data_point.reshape(1, -1))[0]\n",
    "prediction_class = data.target_names[predicted_class_idx]"
   ],
   "outputs": [],
   "execution_count": 4
  },
  {
   "cell_type": "code",
   "metadata": {
    "ExecuteTime": {
     "end_time": "2025-01-24T12:11:04.188454Z",
     "start_time": "2025-01-24T12:11:04.186252Z"
    }
   },
   "source": [
    "# For multi-class problems, shap_values is a 3D array (instances, features, classes)\n",
    "# Select SHAP values for the predicted class and the specific data point\n",
    "data_point_index = 0  # Index of the data point to explain\n",
    "predicted_class_idx = np.argmax(prediction_probs)  # Index of the predicted class\n",
    "\n",
    "# Extract SHAP values for the data point and class\n",
    "class_shap_values = shap_values[data_point_index][:, predicted_class_idx]\n",
    "\n",
    "# Verify shapes\n",
    "print(\"Class SHAP values shape:\", len(class_shap_values))  # Should match `data_point`\n",
    "print(\"Data point shape:\", len(data_point))  # Should match `class_shap_values`\n",
    "\n",
    "# Ensure the dimensions match\n",
    "assert len(class_shap_values) == len(data_point), \"SHAP values and data point dimensions do not match!\"\n",
    "\n"
   ],
   "outputs": [
    {
     "name": "stdout",
     "output_type": "stream",
     "text": [
      "Class SHAP values shape: 4\n",
      "Data point shape: 4\n"
     ]
    }
   ],
   "execution_count": 5
  },
  {
   "cell_type": "code",
   "metadata": {
    "ExecuteTime": {
     "end_time": "2025-01-24T12:11:13.596960Z",
     "start_time": "2025-01-24T12:11:04.195469Z"
    }
   },
   "source": [
    "explanation = llm_explainer.explain(\n",
    "    shap_values=class_shap_values,  # SHAP values for the predicted class\n",
    "    data_point=data_point,\n",
    "    prediction=prediction_probs[predicted_class_idx],\n",
    "    prediction_class=prediction_class,\n",
    "    additional_context={\n",
    "        \"dataset\": \"Iris\",\n",
    "        \"feature_descriptions\": {\n",
    "            \"sepal length\": \"Length of the sepal in cm\",\n",
    "            \"sepal width\": \"Width of the sepal in cm\",\n",
    "            \"petal length\": \"Length of the petal in cm\",\n",
    "            \"petal width\": \"Width of the petal in cm\"\n",
    "        }\n",
    "    }\n",
    ")\n",
    "\n",
    "print(\"Summary:\", explanation.summary)\n",
    "print(\"\\nDetailed Explanation:\", explanation.detailed_explanation)\n",
    "print(\"\\nRecommendations:\", explanation.recommendations)\n",
    "print(\"\\nConfidence Level:\", explanation.confidence_level)"
   ],
   "outputs": [
    {
     "name": "stdout",
     "output_type": "stream",
     "text": [
      "Summary: The prediction that the flower is of the species 'setosa' is primarily influenced by the petal length and width, with significant contributions also from the sepal length.\n",
      "\n",
      "Detailed Explanation: In determining that the flower is a 'setosa', the prediction is largely influenced by the physical dimensions of the petals, where both the length and width distinctly align with common characteristics of the setosa species. The combination of relatively short and narrow petals is crucial here, as these are definitive traits of setosa flowers. Additionally, the comparatively modest sepal length further supports this classification. Together, these factors account for the unique physical appearance typical of the setosa species.\n",
      "\n",
      "Recommendations: ['Ensure data is accurately measured and recorded to maintain prediction reliability.', 'Consider gathering more samples of setosa to reinforce the strength of classification features.']\n",
      "\n",
      "Confidence Level: high\n"
     ]
    }
   ],
   "execution_count": 6
  },
  {
   "cell_type": "code",
   "metadata": {
    "ExecuteTime": {
     "end_time": "2025-01-24T12:11:13.612516Z",
     "start_time": "2025-01-24T12:11:13.610761Z"
    }
   },
   "source": [],
   "outputs": [],
   "execution_count": null
  }
 ],
 "metadata": {
  "kernelspec": {
   "display_name": "Python (shapxplain)",
   "language": "python",
   "name": "shapxplain"
  },
  "language_info": {
   "codemirror_mode": {
    "name": "ipython",
    "version": 3
   },
   "file_extension": ".py",
   "mimetype": "text/x-python",
   "name": "python",
   "nbconvert_exporter": "python",
   "pygments_lexer": "ipython3",
   "version": "3.12.6"
  }
 },
 "nbformat": 4,
 "nbformat_minor": 4
}
