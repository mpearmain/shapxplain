{
 "cells": [
  {
   "cell_type": "markdown",
   "metadata": {},
   "source": [
    "# SHAPXplain: Example Usage\n",
    "\n",
    "This notebook demonstrates how to use the SHAPXplain package to integrate SHAP explanations with LLMs."
   ]
  },
  {
   "cell_type": "code",
   "execution_count": null,
   "metadata": {},
   "outputs": [],
   "source": [
    "from shapxplain.core.main import ShapLLMExplainer\n",
    "from shapxplain.models.base_model import ExampleModel\n",
    "from shapxplain.utils.helpers import preprocess_data\n",
    "\n",
    "# Load data\n",
    "data = ... # Load your dataset\n",
    "\n",
    "# Train model\n",
    "model = ExampleModel()\n",
    "model.train(X, y)\n",
    "\n",
    "# Explain with SHAP and LLM\n",
    "explainer = ShapLLMExplainer(model, tokenizer=None, prompt_template=\"Explain this\")\n",
    "explanation = explainer.explain(data, shap_values)"
   ]
  }
 ],
 "metadata": {
  "kernelspec": {
   "display_name": "Python 3",
   "language": "python",
   "name": "python3"
  }
 },
 "nbformat": 4,
 "nbformat_minor": 4
}
