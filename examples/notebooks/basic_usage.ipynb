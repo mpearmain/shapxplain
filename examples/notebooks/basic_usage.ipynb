{
 "cells": [
  {
   "cell_type": "markdown",
   "metadata": {},
   "source": [
    "# SHAPXplain: Example Usage\n",
    "\n",
    "This notebook demonstrates how to use the SHAPXplain package to integrate SHAP explanations with LLMs."
   ]
  },
  {
   "cell_type": "code",
   "execution_count": null,
   "metadata": {},
   "outputs": [],
   "source": [
    "from sklearn.datasets import load_iris\n",
    "from sklearn.ensemble import RandomForestClassifier\n",
    "from shap import TreeExplainer\n",
    "from shapxplain import ShapLLMExplainer\n",
    "\n",
    "# Load data and train model\n",
    "data = load_iris()\n",
    "X, y = data.data, data.target\n",
    "model = RandomForestClassifier(random_state=42)\n",
    "model.fit(X, y)\n",
    "\n",
    "# Generate SHAP values\n",
    "explainer = TreeExplainer(model)\n",
    "shap_values = explainer.shap_values(X)\n"
   ]
  },
  {
   "metadata": {},
   "cell_type": "code",
   "outputs": [],
   "execution_count": null,
   "source": [
    "llm_explainer = ShapLLMExplainer(\n",
    "    model=model,\n",
    "    feature_names=data.feature_names,  # Add feature names\n",
    ")\n",
    "\n",
    "# Generate an explanation for a specific data point\n",
    "explanation = llm_explainer.explain(\n",
    "    shap_values=shap_values[0],\n",
    "    data_point=X[0],\n",
    "    prediction=model.predict_proba(X[0].reshape(1, -1))[0],\n",
    "    prediction_class=data.target_names[model.predict(X[0].reshape(1, -1))[0]]\n",
    ")"
   ]
  },
  {
   "metadata": {},
   "cell_type": "code",
   "outputs": [],
   "execution_count": null,
   "source": ""
  }
 ],
 "metadata": {
  "kernelspec": {
   "display_name": "Python 3",
   "language": "python",
   "name": "python3"
  }
 },
 "nbformat": 4,
 "nbformat_minor": 4
}
